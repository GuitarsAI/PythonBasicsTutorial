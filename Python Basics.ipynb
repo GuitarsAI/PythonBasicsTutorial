{
 "cells": [
  {
   "cell_type": "markdown",
   "metadata": {
    "slideshow": {
     "slide_type": "slide"
    }
   },
   "source": [
    "# Tutorial - Python Basics\n",
    "![Guitars.AI](businesscard.jpg \"Business Card\")"
   ]
  },
  {
   "cell_type": "markdown",
   "metadata": {},
   "source": [
    "## Table of Contents\n",
    "1. <a href='#comments'>Comments</a>\n",
    "2. <a href='#numbers'>Numbers</a>\n",
    "3. <a href='#strings'>Strings</a>\n",
    "4. <a href='#lists'>Lists</a>\n",
    "5. <a href='#flow_control'>Flow Control</a>\n",
    "    1. <a href='#if'>If Statement</a>\n",
    "    2. <a href='#for'>For Loops</a>\n",
    "    3. <a href='#while'>While Statement</a>\n",
    "6. <a href='#dictionary'>Dictionary</a>\n",
    "7. <a href='#functions'>Functions</a>\n",
    "    1. <a href='#vl_arguments'>Variable Length Arguments</a>\n",
    "8. <a href='#classes'>Classes</a>\n",
    "    1. <a href='inheritance'>Classes Inheritance</a>\n",
    "9. <a href='#help'>Help Commands</a>\n",
    "10. <a href='#exercise'>Exercise</a>\n"
   ]
  },
  {
   "cell_type": "markdown",
   "metadata": {},
   "source": [
    "<a id='comments'></a>\n",
    "## Comments"
   ]
  },
  {
   "cell_type": "code",
   "execution_count": null,
   "metadata": {
    "collapsed": true
   },
   "outputs": [],
   "source": [
    "# This is a single line comment"
   ]
  },
  {
   "cell_type": "code",
   "execution_count": null,
   "metadata": {},
   "outputs": [],
   "source": [
    "\"\"\"This is a \n",
    "multline\n",
    "comment.\"\"\""
   ]
  },
  {
   "cell_type": "code",
   "execution_count": null,
   "metadata": {
    "collapsed": true
   },
   "outputs": [],
   "source": [
    "\"\"\"This is also \n",
    "a multiline \n",
    "comment.\"\"\"; # the semi-collon supressed the output in Jupyter Notebook"
   ]
  },
  {
   "cell_type": "code",
   "execution_count": null,
   "metadata": {},
   "outputs": [],
   "source": [
    "#https://www.python.org/dev/peps/pep-0257/\n",
    "'''A docstring is a string literal that \n",
    "occurs as the first statement in a module, \n",
    "function, class, or method definition.'''\n",
    "# It's also used for Docstrings"
   ]
  },
  {
   "cell_type": "markdown",
   "metadata": {
    "slideshow": {
     "slide_type": "slide"
    }
   },
   "source": [
    "## Numbers <a id='numbers'></a>"
   ]
  },
  {
   "cell_type": "code",
   "execution_count": null,
   "metadata": {},
   "outputs": [],
   "source": [
    " 2 + 2"
   ]
  },
  {
   "cell_type": "code",
   "execution_count": null,
   "metadata": {},
   "outputs": [],
   "source": [
    "5/2"
   ]
  },
  {
   "cell_type": "code",
   "execution_count": null,
   "metadata": {},
   "outputs": [],
   "source": [
    "# Python 2 vs Python 3\n",
    "# https://en.wikibooks.org/wiki/Python_Programming/Operators#Division_and_Type_Conversion\n",
    "5//2"
   ]
  },
  {
   "cell_type": "code",
   "execution_count": null,
   "metadata": {},
   "outputs": [],
   "source": [
    "5 / 2.0"
   ]
  },
  {
   "cell_type": "code",
   "execution_count": null,
   "metadata": {},
   "outputs": [],
   "source": [
    "2**2"
   ]
  },
  {
   "cell_type": "code",
   "execution_count": null,
   "metadata": {},
   "outputs": [],
   "source": [
    "#  ( = ) assigns a value to a variable\n",
    "a=2\n",
    "b=3.5\n",
    "x = 3*a + b\n",
    "x"
   ]
  },
  {
   "cell_type": "markdown",
   "metadata": {},
   "source": [
    "<a id='strings'></a>\n",
    "## Strings\n"
   ]
  },
  {
   "cell_type": "code",
   "execution_count": null,
   "metadata": {},
   "outputs": [],
   "source": [
    "\"this is a string\""
   ]
  },
  {
   "cell_type": "code",
   "execution_count": null,
   "metadata": {},
   "outputs": [],
   "source": [
    "\" this is \\\"also\\\" a string\""
   ]
  },
  {
   "cell_type": "code",
   "execution_count": null,
   "metadata": {},
   "outputs": [],
   "source": [
    "\"a + \"+ \"b \" + \" = c\""
   ]
  },
  {
   "cell_type": "code",
   "execution_count": null,
   "metadata": {},
   "outputs": [],
   "source": [
    "word=\"Hello\"\n",
    "word + \" = \" + word[0]+ word[1]+ word[2:]"
   ]
  },
  {
   "cell_type": "markdown",
   "metadata": {},
   "source": [
    "<a id='lists'></a>\n",
    "## Lists"
   ]
  },
  {
   "cell_type": "code",
   "execution_count": null,
   "metadata": {},
   "outputs": [],
   "source": [
    "guitars = [\"fender\",\"gibson\", \"prs\", \"yamaha\", \"ibanez\"]\n",
    "guitars"
   ]
  },
  {
   "cell_type": "code",
   "execution_count": null,
   "metadata": {},
   "outputs": [],
   "source": [
    "guitars.append(1)\n",
    "guitars"
   ]
  },
  {
   "cell_type": "code",
   "execution_count": null,
   "metadata": {},
   "outputs": [],
   "source": [
    "guitars.append(\"1\")\n",
    "guitars"
   ]
  },
  {
   "cell_type": "code",
   "execution_count": null,
   "metadata": {},
   "outputs": [],
   "source": [
    "try:\n",
    "    guitars[-1]+guitars[0]+guitars[-2]\n",
    "except Exception as e: print(\"There was an error: \", e)"
   ]
  },
  {
   "cell_type": "code",
   "execution_count": null,
   "metadata": {},
   "outputs": [],
   "source": [
    "guitars[-1]+' ' +guitars[0]"
   ]
  },
  {
   "cell_type": "code",
   "execution_count": null,
   "metadata": {},
   "outputs": [],
   "source": [
    "numbers=[1,2,3]\n",
    "strings=['1','2','3']\n",
    "numbers_and_strings=[numbers,strings]\n",
    "numbers_and_strings[1][2] + str(numbers_and_strings[0][2])"
   ]
  },
  {
   "cell_type": "code",
   "execution_count": null,
   "metadata": {},
   "outputs": [],
   "source": [
    "print(strings)"
   ]
  },
  {
   "cell_type": "markdown",
   "metadata": {},
   "source": [
    "<a id='flow_control'></a>\n",
    "## Flow Control"
   ]
  },
  {
   "cell_type": "markdown",
   "metadata": {},
   "source": [
    "<a id='if'></a>\n",
    "### If Statement"
   ]
  },
  {
   "cell_type": "code",
   "execution_count": null,
   "metadata": {},
   "outputs": [],
   "source": [
    "band = input(\"What's your favorite band? \")\n",
    "if band == 'Iron Maiden':\n",
    "    print(\"That rocks!!!\")\n",
    "elif band == 'BackStreet Boys':\n",
    "    print(\"Hum... okey.\")\n",
    "else:\n",
    "    print(\"Your favorite band is %s!\" %band)"
   ]
  },
  {
   "cell_type": "markdown",
   "metadata": {},
   "source": [
    "<a id='for'></a>\n",
    "### For Loops"
   ]
  },
  {
   "cell_type": "code",
   "execution_count": null,
   "metadata": {},
   "outputs": [],
   "source": [
    " for i in range(2,13,2):\n",
    "        print(i)"
   ]
  },
  {
   "cell_type": "code",
   "execution_count": null,
   "metadata": {},
   "outputs": [],
   "source": [
    "for guitar in guitars:\n",
    "    print(guitar, type(guitar))"
   ]
  },
  {
   "cell_type": "code",
   "execution_count": null,
   "metadata": {},
   "outputs": [],
   "source": [
    "for guitar in guitars[:]:\n",
    "    print('We are now at:',guitar, type(guitar))\n",
    "    try:\n",
    "        if len(guitar)<4:\n",
    "            print(\"We are inserting %s at the beggining.\"% guitar)\n",
    "            guitars.insert(0, guitar)\n",
    "    except Exception as e: \n",
    "        print(\"There was an error: %s but we will fix it and move on.\" % e)\n",
    "        guitars.remove(guitar)\n",
    "        \n",
    "print(guitars)"
   ]
  },
  {
   "cell_type": "code",
   "execution_count": null,
   "metadata": {},
   "outputs": [],
   "source": [
    "for i in range(len(guitars)):\n",
    "    print(i, guitars[i])"
   ]
  },
  {
   "cell_type": "markdown",
   "metadata": {},
   "source": [
    "<a id='while'></a>\n",
    "### While Statement"
   ]
  },
  {
   "cell_type": "code",
   "execution_count": null,
   "metadata": {},
   "outputs": [],
   "source": [
    "count = 10\n",
    "while (count >= 0):\n",
    "    print('The count is:', count)\n",
    "    count -=1\n",
    "\n",
    "print (\"Finito Maestro!\")"
   ]
  },
  {
   "cell_type": "markdown",
   "metadata": {},
   "source": [
    "<a id='dictionary'></a>\n",
    "## Dictionary"
   ]
  },
  {
   "cell_type": "code",
   "execution_count": null,
   "metadata": {},
   "outputs": [],
   "source": [
    "notes = {'a': 'La', 'A':'La',\n",
    "        'b': 'Si', 'B':'Si',\n",
    "        'c': 'Do', 'C':'Do',\n",
    "        'd': 'Re', 'D':'Re',\n",
    "        'e': 'Mi', 'E':'Mi',\n",
    "        'f': 'Fa', 'F':'Fa',\n",
    "        'g': 'Sol', 'G':'Sol'}\n",
    "print('The name of the note A is %s.' % notes['A'])\n",
    "try:\n",
    "    print('The name of the note X is %s.' % notes['X'])\n",
    "except Exception as e: \n",
    "    print(\"There was an error: %s is not a note.\" % e)\n",
    "print(notes)"
   ]
  },
  {
   "cell_type": "code",
   "execution_count": null,
   "metadata": {},
   "outputs": [],
   "source": [
    "notes['h']='Si'\n",
    "notes['H']='Si'\n",
    "print('The name of the note H is %s.' % notes['H'])\n",
    "print(notes)"
   ]
  },
  {
   "cell_type": "markdown",
   "metadata": {},
   "source": [
    "<a id='functions'></a>\n",
    "## Functions"
   ]
  },
  {
   "cell_type": "code",
   "execution_count": null,
   "metadata": {},
   "outputs": [],
   "source": [
    "def note_names(note):\n",
    "    '''A function that takes a note as an argument and returns its name.\n",
    "    \n",
    "       Example: c - Do, d - Re, e - Mi, and so on\n",
    "    '''\n",
    "    notes = {'a': 'La', 'A':'La',\n",
    "        'b': 'Si', 'B':'Si',\n",
    "        'c': 'Do', 'C':'Do',\n",
    "        'd': 'Re', 'D':'Re',\n",
    "        'e': 'Mi', 'E':'Mi',\n",
    "        'f': 'Fa', 'F':'Fa',\n",
    "        'g': 'Sol', 'G':'Sol'}\n",
    "    try:\n",
    "        return notes[note]\n",
    "    except Exception as e:\n",
    "        print('%s is not a note.'%note)\n",
    "        return None\n",
    "\n",
    "note_name=input(\"Enter a note (a,b,c,d,e,f,g): \")\n",
    "print(\"The note name of \\'%s\\' is  %s.\" % (note_name, note_names(note_name)))"
   ]
  },
  {
   "cell_type": "markdown",
   "metadata": {},
   "source": [
    "<a id='vl_arguments'></a>\n",
    "### Variable Length Arguments"
   ]
  },
  {
   "cell_type": "code",
   "execution_count": null,
   "metadata": {},
   "outputs": [],
   "source": [
    "def myTestFunction(arg, *args, **kwargs):\n",
    "    print('arg=',arg)\n",
    "    print('args=',args)\n",
    "    print('kwargs=',kwargs)\n",
    "    return arg, args, kwargs\n",
    "\n",
    "print(myTestFunction(1,2,3,4, 5,6,7,8, nine=9,ten=10,eleven=11))\n",
    "print(myTestFunction(2,3,4))"
   ]
  },
  {
   "cell_type": "markdown",
   "metadata": {},
   "source": [
    "<a id='classes'></a>\n",
    "## Classes"
   ]
  },
  {
   "cell_type": "code",
   "execution_count": null,
   "metadata": {
    "collapsed": true
   },
   "outputs": [],
   "source": [
    "class MyGuitarClass:\n",
    "    \"\"\"A Guitar Class. Guitars have the\n",
    "    following properties:\n",
    "\n",
    "    Attributes:\n",
    "    name: A string representing the guitar's name.\n",
    "    price: A float representing the guitar's price.\n",
    "    numer_of_strings: An int representing the guitar's number of strings.\n",
    "        \n",
    "    Methods:\n",
    "    getName: A function that returns the name of a guitar.\n",
    "    getPrice: A function that returns the price of a guitar.\n",
    "    setPrice: A function that sets the price of a guitar.\n",
    "    getNumberOfStrings: A function that returns de number of strings of a guitar.\n",
    "    \"\"\"\n",
    "    \n",
    "    number_of_strings=6 #The standard number of strings of a guitar. Protected\n",
    "    \n",
    "    def __init__(self, name, price=0.0):\n",
    "        \"\"\"Returns a Guitar object whose name is *name* and price is *price*.\n",
    "        \"\"\"\n",
    "        self.name = name\n",
    "        self.price = price\n",
    "        \n",
    "    def getName(self):\n",
    "        \"\"\"Returns the name of a guitar.\n",
    "        \"\"\"\n",
    "        return self.name\n",
    "\n",
    "    def getPrice(self):\n",
    "        \"\"\"Returns the price of a guitar.\n",
    "        \"\"\"\n",
    "        return self.price\n",
    "    \n",
    "    def getNumberOfStrings(self):\n",
    "        \"\"\"Returns the number of strings of a guitar.\n",
    "        \"\"\"\n",
    "        return self.number_of_strings\n",
    "    \n",
    "    def setPrice(self, price):\n",
    "        \"\"\"Sets the price of a guitar.\n",
    "        \"\"\"\n",
    "        self.price = price\n",
    "        print('The price of this %s was set to %6.2f' % (self.name, self.price))\n",
    "\n",
    "    def __str__(self):\n",
    "        return \"This %s guitar costs %8.2f € and it has %d strings.\" % (self.name, self.price, self.number_of_strings)    "
   ]
  },
  {
   "cell_type": "code",
   "execution_count": null,
   "metadata": {},
   "outputs": [],
   "source": [
    "fender=MyGuitarClass('Fender', 100)\n",
    "print(fender)\n",
    "print('This %s guitar costs %6.2f €' % (fender.getName(), fender.getPrice()))\n",
    "gibson=MyGuitarClass('Gibson Les Paul')\n",
    "print(gibson)\n",
    "gibson.setPrice(200)\n",
    "print(gibson)\n",
    "print('This %s guitar costs %6.2f € and it has %d strings.' % (gibson.getName(), gibson.getPrice(), gibson.getNumberOfStrings()))\n",
    "print('This %s guitar costs %6.2f € and it has %d strings.' % (fender.name, fender.price, fender.number_of_strings))"
   ]
  },
  {
   "cell_type": "markdown",
   "metadata": {},
   "source": [
    "<a id='inheritance'></a>\n",
    "### Classes Inheritance"
   ]
  },
  {
   "cell_type": "code",
   "execution_count": null,
   "metadata": {
    "collapsed": true
   },
   "outputs": [],
   "source": [
    "class MyBassClass(MyGuitarClass):\n",
    "    \"\"\"A Bass Class Inherited from the Guitar Class. Bassess have the\n",
    "    following properties:\n",
    "\n",
    "    Attributes:\n",
    "    name: A string representing the bass's name.\n",
    "    price: A float representing the bass's price.\n",
    "    numer_of_strings: An int representing the bass's number of strings.\n",
    "        \n",
    "    Methods:\n",
    "    getName: A function that returns the name of a bass.\n",
    "    getPrice: A function that returns the price of a bass.\n",
    "    setPrice: A function that sets the price of a bass.\n",
    "    getNumberOfStrings: A function that returns de number of strings of a bass.\n",
    "    \"\"\"\n",
    "    #number_of_strings=4 #The standard number of strings of a bass.\n",
    "    \n",
    "    def __init__(self, name, price=0.0):\n",
    "        \"\"\"Returns a Bass object whose name is *name* and price is *price*.\n",
    "        \"\"\"\n",
    "        self.__number_of_strings=4 #The standard number of strings of a bass.\n",
    "        super(MyBassClass, self).__init__(name, price)\n",
    "        \n",
    "    def setNumberOfStrings(self, number_of_strings):\n",
    "        \"\"\"Sets the price of a guitar.\n",
    "        \"\"\"\n",
    "        self.__number_of_strings = number_of_strings\n",
    "        print('The number of strings of this %s bass was set to %d' % (self.name, self.__number_of_strings))\n",
    "    \n",
    "    def getNumberOfStrings(self):\n",
    "        \"\"\"Returns the number of strings of a guitar.\n",
    "        \"\"\"\n",
    "        return self.__number_of_strings\n",
    "    \n",
    "    def __str__(self):\n",
    "        return \"This %s bass costs %8.2f € and it has %d strings.\" % (self.name, self.price, self.__number_of_strings) \n",
    "            \n"
   ]
  },
  {
   "cell_type": "code",
   "execution_count": null,
   "metadata": {},
   "outputs": [],
   "source": [
    "yamaha=MyBassClass('yamaha', 120)\n",
    "print(yamaha)\n",
    "print('This %s bass costs %6.2f € and it has %d strings.' % (yamaha.getName(), yamaha.getPrice(), yamaha.getNumberOfStrings()))\n",
    "yamaha.setPrice(200)\n",
    "yamaha.setNumberOfStrings(5)\n",
    "print(yamaha)\n",
    "try:\n",
    "    print('This %s bass costs %6.2f € and it has %d strings.' % (yamaha.name, yamaha.price, yamaha.__number_of_strings))\n",
    "except Exception as e: \n",
    "    print(\"There was an error: %s. So let's fix it.\" % e)\n",
    "    print('This %s bass costs %6.2f € and it has %d strings.' % (yamaha.name, yamaha.price, yamaha.getNumberOfStrings()))\n"
   ]
  },
  {
   "cell_type": "markdown",
   "metadata": {},
   "source": [
    "<a id='help'></a>\n",
    "## Help Commands"
   ]
  },
  {
   "cell_type": "code",
   "execution_count": null,
   "metadata": {},
   "outputs": [],
   "source": [
    "help()"
   ]
  },
  {
   "cell_type": "code",
   "execution_count": null,
   "metadata": {
    "collapsed": true
   },
   "outputs": [],
   "source": [
    "abs?"
   ]
  },
  {
   "cell_type": "code",
   "execution_count": null,
   "metadata": {},
   "outputs": [],
   "source": [
    "help(abs)"
   ]
  },
  {
   "cell_type": "code",
   "execution_count": null,
   "metadata": {},
   "outputs": [],
   "source": [
    "help(help)"
   ]
  },
  {
   "cell_type": "code",
   "execution_count": null,
   "metadata": {},
   "outputs": [],
   "source": [
    "print('This function returns the attributes of the object or module:\\n',dir(abs))"
   ]
  },
  {
   "cell_type": "code",
   "execution_count": null,
   "metadata": {},
   "outputs": [],
   "source": [
    "abs.__doc__"
   ]
  },
  {
   "cell_type": "code",
   "execution_count": null,
   "metadata": {},
   "outputs": [],
   "source": [
    "help(note_names)"
   ]
  },
  {
   "cell_type": "code",
   "execution_count": null,
   "metadata": {},
   "outputs": [],
   "source": [
    "help(MyGuitarClass)"
   ]
  },
  {
   "cell_type": "code",
   "execution_count": null,
   "metadata": {},
   "outputs": [],
   "source": [
    "help(MyGuitarClass.getName)"
   ]
  },
  {
   "cell_type": "code",
   "execution_count": null,
   "metadata": {
    "collapsed": true
   },
   "outputs": [],
   "source": [
    "note_names?"
   ]
  },
  {
   "cell_type": "code",
   "execution_count": null,
   "metadata": {
    "collapsed": true
   },
   "outputs": [],
   "source": [
    "MyGuitarClass?"
   ]
  },
  {
   "cell_type": "markdown",
   "metadata": {
    "collapsed": true
   },
   "source": [
    "<a id='exercise'></a>\n",
    "## Exercise"
   ]
  },
  {
   "cell_type": "markdown",
   "metadata": {},
   "source": [
    "Exercise 1.5 from Fundamentals of Music Processing*, page 36.\n",
    "\n",
    "*Müller, Meinard. Fundamentals of music processing : audio, analysis, algorithms, applications. Switzerland: Springer, 2015.\n",
    "https://www.audiolabs-erlangen.de/fau/professor/mueller/bookFMP\n",
    "\n",
    "\"Exercise 1.5. Compute the center frequencies for all notes of the Cmajor scale C4, D4, E4, F4, G4, A4, B4, C5   \n",
    "and for all notes of the C-minor scale C4, D4, E$\\flat$4, F4, G4, A4, B4, C5.\""
   ]
  },
  {
   "cell_type": "markdown",
   "metadata": {},
   "source": [
    "### Step 1:\n",
    "Create a function that converts a note to its midi number.\n",
    "\n",
    "Hints:\n",
    "- The function can take as arguments a string with the note symbol (e.g. 'A') and an integer as the note octave. <br> Some useful MIDI Music Theory can be found at:[Wikipedia]\n",
    "(https://en.wikipedia.org/wiki/Scientific_pitch_notation#Table_of_note_frequencies)\n",
    "- You can use the following steps to convert a music note symbol to its midi number:\n",
    "    - You can create a dictionary assigning the number 0 to C, 1 to C#, 2 to D, 3 to D# and so on until you assign B to 11.\n",
    "    - You can use the following formula to compute the MIDI number using your dictionary entries:   \n",
    "    <br>\n",
    "    $$\\text{MIDI_number}=\\text{value assigned to dictionary note (e.g dictionary['A'])}+(\\text{octave}+1)\\cdot12$$\n",
    "    <br> For example, the value 9 must be assigned to the note symbol 'A', if you want to know the MIDI number of the note A3, you have    \n",
    "    <br>$$\\text{MIDI_Number_A3}=9+(3+1)*12=9+4*12=9+48=57$$.<br>\n",
    "    - The following table shows all the 128 possible MIDI numbers. <br>\n",
    "    <table border=\"1\" class=\"dataframe\">\n",
    "  <thead>\n",
    "    <tr style=\"text-align: right;\">\n",
    "      <th>Notes</th>\n",
    "      <th>C</th>\n",
    "      <th>C#</th>\n",
    "      <th>D</th>\n",
    "      <th>D#</th>\n",
    "      <th>E</th>\n",
    "      <th>F</th>\n",
    "      <th>F#</th>\n",
    "      <th>G</th>\n",
    "      <th>G#</th>\n",
    "      <th>A</th>\n",
    "      <th>A#</th>\n",
    "      <th>B</th>\n",
    "    </tr>\n",
    "    <tr>\n",
    "      <th>Octaves</th>\n",
    "      <th></th>\n",
    "      <th></th>\n",
    "      <th></th>\n",
    "      <th></th>\n",
    "      <th></th>\n",
    "      <th></th>\n",
    "      <th></th>\n",
    "      <th></th>\n",
    "      <th></th>\n",
    "      <th></th>\n",
    "      <th></th>\n",
    "      <th></th>\n",
    "    </tr>\n",
    "  </thead>\n",
    "  <tbody>\n",
    "    <tr>\n",
    "      <th>-1</th>\n",
    "      <td>0</td>\n",
    "      <td>1</td>\n",
    "      <td>2</td>\n",
    "      <td>3</td>\n",
    "      <td>4</td>\n",
    "      <td>5</td>\n",
    "      <td>6</td>\n",
    "      <td>7</td>\n",
    "      <td>8</td>\n",
    "      <td>9</td>\n",
    "      <td>10</td>\n",
    "      <td>11</td>\n",
    "    </tr>\n",
    "    <tr>\n",
    "      <th>0</th>\n",
    "      <td>12</td>\n",
    "      <td>13</td>\n",
    "      <td>14</td>\n",
    "      <td>15</td>\n",
    "      <td>16</td>\n",
    "      <td>17</td>\n",
    "      <td>18</td>\n",
    "      <td>19</td>\n",
    "      <td>20</td>\n",
    "      <td>21</td>\n",
    "      <td>22</td>\n",
    "      <td>23</td>\n",
    "    </tr>\n",
    "    <tr>\n",
    "      <th>1</th>\n",
    "      <td>24</td>\n",
    "      <td>25</td>\n",
    "      <td>26</td>\n",
    "      <td>27</td>\n",
    "      <td>28</td>\n",
    "      <td>29</td>\n",
    "      <td>30</td>\n",
    "      <td>31</td>\n",
    "      <td>32</td>\n",
    "      <td>33</td>\n",
    "      <td>34</td>\n",
    "      <td>35</td>\n",
    "    </tr>\n",
    "    <tr>\n",
    "      <th>2</th>\n",
    "      <td>36</td>\n",
    "      <td>37</td>\n",
    "      <td>38</td>\n",
    "      <td>39</td>\n",
    "      <td>40</td>\n",
    "      <td>41</td>\n",
    "      <td>42</td>\n",
    "      <td>43</td>\n",
    "      <td>44</td>\n",
    "      <td>45</td>\n",
    "      <td>46</td>\n",
    "      <td>47</td>\n",
    "    </tr>\n",
    "    <tr>\n",
    "      <th>3</th>\n",
    "      <td>48</td>\n",
    "      <td>49</td>\n",
    "      <td>50</td>\n",
    "      <td>51</td>\n",
    "      <td>52</td>\n",
    "      <td>53</td>\n",
    "      <td>54</td>\n",
    "      <td>55</td>\n",
    "      <td>56</td>\n",
    "      <td>57</td>\n",
    "      <td>58</td>\n",
    "      <td>59</td>\n",
    "    </tr>\n",
    "    <tr>\n",
    "      <th>4</th>\n",
    "      <td>60</td>\n",
    "      <td>61</td>\n",
    "      <td>62</td>\n",
    "      <td>63</td>\n",
    "      <td>64</td>\n",
    "      <td>65</td>\n",
    "      <td>66</td>\n",
    "      <td>67</td>\n",
    "      <td>68</td>\n",
    "      <td>69</td>\n",
    "      <td>70</td>\n",
    "      <td>71</td>\n",
    "    </tr>\n",
    "    <tr>\n",
    "      <th>5</th>\n",
    "      <td>72</td>\n",
    "      <td>73</td>\n",
    "      <td>74</td>\n",
    "      <td>75</td>\n",
    "      <td>76</td>\n",
    "      <td>77</td>\n",
    "      <td>78</td>\n",
    "      <td>79</td>\n",
    "      <td>80</td>\n",
    "      <td>81</td>\n",
    "      <td>82</td>\n",
    "      <td>83</td>\n",
    "    </tr>\n",
    "    <tr>\n",
    "      <th>6</th>\n",
    "      <td>84</td>\n",
    "      <td>85</td>\n",
    "      <td>86</td>\n",
    "      <td>87</td>\n",
    "      <td>88</td>\n",
    "      <td>89</td>\n",
    "      <td>90</td>\n",
    "      <td>91</td>\n",
    "      <td>92</td>\n",
    "      <td>93</td>\n",
    "      <td>94</td>\n",
    "      <td>95</td>\n",
    "    </tr>\n",
    "    <tr>\n",
    "      <th>7</th>\n",
    "      <td>96</td>\n",
    "      <td>97</td>\n",
    "      <td>98</td>\n",
    "      <td>99</td>\n",
    "      <td>100</td>\n",
    "      <td>101</td>\n",
    "      <td>102</td>\n",
    "      <td>103</td>\n",
    "      <td>104</td>\n",
    "      <td>105</td>\n",
    "      <td>106</td>\n",
    "      <td>107</td>\n",
    "    </tr>\n",
    "    <tr>\n",
    "      <th>8</th>\n",
    "      <td>108</td>\n",
    "      <td>109</td>\n",
    "      <td>110</td>\n",
    "      <td>111</td>\n",
    "      <td>112</td>\n",
    "      <td>113</td>\n",
    "      <td>114</td>\n",
    "      <td>115</td>\n",
    "      <td>116</td>\n",
    "      <td>117</td>\n",
    "      <td>118</td>\n",
    "      <td>119</td>\n",
    "    </tr>\n",
    "    <tr>\n",
    "      <th>9</th>\n",
    "      <td>120</td>\n",
    "      <td>121</td>\n",
    "      <td>122</td>\n",
    "      <td>123</td>\n",
    "      <td>124</td>\n",
    "      <td>125</td>\n",
    "      <td>126</td>\n",
    "      <td>127</td>\n",
    "      <td>NaN</td>\n",
    "      <td>NaN</td>\n",
    "      <td>NaN</td>\n",
    "      <td>NaN</td>\n",
    "    </tr>\n",
    "  </tbody>\n",
    "</table>\n"
   ]
  },
  {
   "cell_type": "code",
   "execution_count": null,
   "metadata": {},
   "outputs": [],
   "source": [
    "# How to generate the table above\n",
    "import numpy as np\n",
    "import pandas as pd\n",
    "df = pd.DataFrame()\n",
    "note_symbols=['C', 'C#', 'D', 'D#', 'E', 'F', 'F#', 'G', 'G#', 'A', 'A#', 'B']\n",
    "octaves_range=range(-1,10)\n",
    "midi_numbers=np.arange(len(note_symbols)*len(octaves_range)).reshape((len(octaves_range), len(note_symbols)))\n",
    "df = pd.DataFrame(midi_numbers,index=octaves_range, columns=note_symbols)\n",
    "df[df > 127] = np.NaN\n",
    "df.columns.name = 'Notes'\n",
    "df.index.name = 'Octaves'\n",
    "from IPython.display import display\n",
    "pd.options.display.float_format = '{:,.0f}'.format\n",
    "display(df)\n",
    "df.to_html('midi_chart.html')\n"
   ]
  },
  {
   "cell_type": "code",
   "execution_count": null,
   "metadata": {
    "collapsed": true
   },
   "outputs": [],
   "source": [
    "# Here are function prototype for you to start.\n",
    "def nameOfYourFunction(symbol, octave):\n",
    "    '''A function that takes a note and its octave as arguments and returns its MIDI Number.\n",
    "    \n",
    "    Parameters\n",
    "    ----------\n",
    "    symbol : str\n",
    "        One of the possible note symbols: C, C#, D, D#, E, F, F#, G, G#, A, A#, B].\n",
    "    \n",
    "    octave : int\n",
    "        The number of the note octave from -1 to 9.\n",
    "\n",
    "    Yields\n",
    "    ------\n",
    "    int\n",
    "        The MIDI number of the note.\n",
    "\n",
    "    Example\n",
    "    --------\n",
    "\n",
    "    >>> print(nameOfYourFunction('A',3))\n",
    "    57\n",
    "    \n",
    "    '''"
   ]
  },
  {
   "cell_type": "code",
   "execution_count": null,
   "metadata": {},
   "outputs": [],
   "source": [
    "def note_to_midi(symbol='A', octave=4):\n",
    "    '''A function that takes a note and its octave as arguments and returns its MIDI Number.\n",
    "    \n",
    "    Parameters\n",
    "    ----------\n",
    "    symbol : str\n",
    "        One of the possible note symbols: C, C#, D, D#, E, F, F#, G, G#, A, A#, B].\n",
    "    \n",
    "    octave : int\n",
    "        The number of the note octave from -1 to 9.\n",
    "\n",
    "    Yields\n",
    "    ------\n",
    "    int\n",
    "        The MIDI number of the note.\n",
    "\n",
    "    Example\n",
    "    --------\n",
    "\n",
    "    >>> print(nameOfYourFunction('A',3))\n",
    "    57\n",
    "    \n",
    "    '''\n",
    "    note_symbols=['C', 'C#', 'D', 'D#', 'E', 'F', 'F#', 'G', 'G#', 'A', 'A#', 'B']\n",
    "    notes_dictionary={}         \n",
    "    for note in range(len(note_symbols)):\n",
    "        notes_dictionary[note_symbols[note]]=note\n",
    "    return notes_dictionary[symbol]+(octave+1)*12\n",
    "\n",
    "print(note_to_midi('A',3))"
   ]
  },
  {
   "cell_type": "markdown",
   "metadata": {},
   "source": [
    "### Step 2:\n",
    "Create a function that returns the center frequency of a note's MIDI number.\n",
    "\n",
    "The **center frequency** of a note as a function of its MIDI number is defined by the formula:\n",
    "\n",
    "<br>$$\\Large F_{pitch}(p)=2^{(p-69)/12}\\cdot440$$ <br>\n",
    "\n",
    "where $p=\\text{MIDI Note Number}$ and the $\\text{center frequency}=F_{pitch}(p)$.\n"
   ]
  },
  {
   "cell_type": "code",
   "execution_count": null,
   "metadata": {},
   "outputs": [],
   "source": [
    "def midiNumber_to_cF(p):\n",
    "    '''A function that takes a MIDI number and returns its center frequency.\n",
    "    \n",
    "    Parameters\n",
    "    ----------\n",
    "    midi_number : int\n",
    "        The MIDI number of a note.\n",
    "    \n",
    "    Yields\n",
    "    ------\n",
    "    float\n",
    "        The center frequency of the MIDI Number of a note.\n",
    "\n",
    "    Example\n",
    "    --------\n",
    "\n",
    "    >>> print(midiNumber_to_cF(57))\n",
    "    220.0\n",
    "    \n",
    "    '''\n",
    "    return 2**((p-69)/12)*440.0\n",
    "\n",
    "print(midiNumber_to_cF(57))"
   ]
  },
  {
   "cell_type": "markdown",
   "metadata": {},
   "source": [
    "### Step 3:\n",
    "- Define a Note Class with the following attributes: note, octave, pitch and center_frequency.\n",
    "- Define the following methods for the Note Class: getNote, setNote, getOctave, setOctave, getPitch, getCenterFrequency.\n",
    "- You can use the functions you just created.\n"
   ]
  },
  {
   "cell_type": "code",
   "execution_count": null,
   "metadata": {
    "collapsed": true
   },
   "outputs": [],
   "source": [
    "class Note:\n",
    "    '''A class with note properties.\n",
    "\n",
    "    Attributes\n",
    "    ----------\n",
    "    note : str\n",
    "       The note symbol.\n",
    "    octave : int\n",
    "       The note octave.\n",
    "    pitch : int\n",
    "       The note pitch as a MIDI number.\n",
    "    cF : float\n",
    "       The center frequency of the note.\n",
    "\n",
    "    Methods\n",
    "    ------\n",
    "    getNote \n",
    "        Returns the note symbol.\n",
    "    setNote\n",
    "        Sets the note symbol.\n",
    "    getOctave\n",
    "        Returns the note octave.\n",
    "    setOctave\n",
    "        Sets the note octave.\n",
    "    getPitch\n",
    "        Returns the note pitch as a MIDI number.\n",
    "    getCenterFrequency\n",
    "        Returns the center frequency of the note pitch.\n",
    "   \n",
    "    Example\n",
    "    --------\n",
    "   '''\n",
    "    def __init__(self, note_symbol='A', octave=0):\n",
    "        \"\"\"Returns a Note object whose note symbol is *note_symbol* and octave is *octave*.\n",
    "        \n",
    "        Attributes\n",
    "        ----------\n",
    "        note_symbol : str\n",
    "           The note symbol.\n",
    "        octave : int\n",
    "           The note octave.\n",
    "        \"\"\"\n",
    "        self.note_symbol = note_symbol\n",
    "        self.octave = octave\n",
    "        \n",
    "    def getNote(self):\n",
    "        \"\"\"Returns the note symbol.\n",
    "        \n",
    "        \"\"\"\n",
    "        return self.note_symbol\n",
    "    \n",
    "    def setNote(self, note):\n",
    "        \"\"\"Returns the note symbol.\n",
    "        \n",
    "        Attributes\n",
    "        ----------\n",
    "        note: str\n",
    "           The new note symbol to be set\n",
    "        \"\"\"\n",
    "        self.note_symbol = note\n",
    "\n",
    "    def getOctave(self):\n",
    "        \"\"\"Returns the note octave.\n",
    "        \n",
    "        \"\"\"\n",
    "        return self.octave\n",
    "    \n",
    "    def setOctave(self, octave):\n",
    "        \"\"\"Returns the note symbol.\n",
    "        \n",
    "        Attributes\n",
    "        ----------\n",
    "        octave : int\n",
    "            The new note octave to be set.\n",
    "        \"\"\"\n",
    "        self.octave = octave\n",
    "    \n",
    "    def __note_to_midi(self): #Note that this method is private because of the __ in the begining, it can't be accesed from outside.\n",
    "            '''A function that takes a note and its octave as arguments and returns its MIDI Number.\n",
    "\n",
    "            Parameters\n",
    "            ----------\n",
    "            symbol : str\n",
    "                One of the possible note symbols: C, C#, D, D#, E, F, F#, G, G#, A, A#, B].\n",
    "\n",
    "            octave : int\n",
    "                The number of the note octave from -1 to 9.\n",
    "\n",
    "            Yields\n",
    "            ------\n",
    "            int\n",
    "                The MIDI number of the note.\n",
    "\n",
    "            Example\n",
    "            --------\n",
    "\n",
    "            >>> print(nameOfYourFunction('A',3))\n",
    "            57\n",
    "\n",
    "            '''\n",
    "            note_symbols=['C', 'C#', 'D', 'D#', 'E', 'F', 'F#', 'G', 'G#', 'A', 'A#', 'B']\n",
    "            notes_dictionary={}\n",
    "\n",
    "            for note in range(len(note_symbols)):\n",
    "                notes_dictionary[note_symbols[note]]=note\n",
    "\n",
    "            return notes_dictionary[self.note_symbol]+(self.octave+1)*12\n",
    "        \n",
    "    \n",
    "    def getPitch(self):\n",
    "        \"\"\"Returns the pitch of the note as a MIDI nuber.\n",
    "        \n",
    "        \"\"\"\n",
    "        return (self.__note_to_midi())\n",
    "    \n",
    "    \n",
    "    def getCenterFrequency(self):\n",
    "        \"\"\"Returns the pitch of the note as a MIDI nuber.\n",
    "        \n",
    "        \"\"\"\n",
    "        return 2**((self.getPitch()-69)/12)*440.0\n",
    "    \n",
    "    def __str__(self):\n",
    "        return \"This note has the following attributes: ... \\\n",
    "            \\n Symbol: %s \\\n",
    "            \\n Octave: %d \\\n",
    "            \\n Pitch: %d \\\n",
    "            \\n Center Frequency: %6.2f\" % (self.note_symbol, self.octave, self.getPitch(), self.getCenterFrequency())"
   ]
  },
  {
   "cell_type": "code",
   "execution_count": null,
   "metadata": {},
   "outputs": [],
   "source": [
    "A2=Note('A',2)\n",
    "C4=Note('C', 4)\n",
    "note_no_parameters_given=Note()\n",
    "print(A2)\n",
    "print(C4)\n",
    "print(note_no_parameters_given)"
   ]
  },
  {
   "cell_type": "code",
   "execution_count": null,
   "metadata": {},
   "outputs": [],
   "source": [
    "print('The pitch as a MIDI number of the %s%d note is: %d.' % (A2.getNote(),A2.getOctave(), A2.getPitch()))"
   ]
  },
  {
   "cell_type": "code",
   "execution_count": null,
   "metadata": {
    "collapsed": true
   },
   "outputs": [],
   "source": []
  }
 ],
 "metadata": {
  "kernelspec": {
   "display_name": "Python 3",
   "language": "python",
   "name": "python3"
  },
  "language_info": {
   "codemirror_mode": {
    "name": "ipython",
    "version": 3
   },
   "file_extension": ".py",
   "mimetype": "text/x-python",
   "name": "python",
   "nbconvert_exporter": "python",
   "pygments_lexer": "ipython3",
   "version": "3.6.3"
  }
 },
 "nbformat": 4,
 "nbformat_minor": 2
}
